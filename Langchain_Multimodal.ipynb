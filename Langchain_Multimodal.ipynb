{
  "cells": [
    {
      "cell_type": "code",
      "execution_count": null,
      "id": "dc2da7e6-d6de-4a1f-aa48-102b825fb74c",
      "metadata": {
        "execution": {
          "iopub.execute_input": "2024-04-08T16:07:52.197938Z",
          "iopub.status.busy": "2024-04-08T16:07:52.197577Z",
          "iopub.status.idle": "2024-04-08T16:07:55.243105Z",
          "shell.execute_reply": "2024-04-08T16:07:55.242470Z",
          "shell.execute_reply.started": "2024-04-08T16:07:52.197922Z"
        },
        "language": "python",
        "trusted": true,
        "id": "dc2da7e6-d6de-4a1f-aa48-102b825fb74c"
      },
      "outputs": [],
      "source": [
        "!pip install langchain openai langchain-experimental langchain-openai pillow open_clip_torch torch matplotlib --quiet"
      ]
    },
    {
      "cell_type": "code",
      "execution_count": null,
      "id": "7e3fa135-ee18-4783-a992-18466ad8c687",
      "metadata": {
        "execution": {
          "iopub.execute_input": "2024-04-08T16:07:55.863313Z",
          "iopub.status.busy": "2024-04-08T16:07:55.863011Z",
          "iopub.status.idle": "2024-04-08T16:07:58.412405Z",
          "shell.execute_reply": "2024-04-08T16:07:58.411791Z",
          "shell.execute_reply.started": "2024-04-08T16:07:55.863292Z"
        },
        "language": "python",
        "trusted": true,
        "id": "7e3fa135-ee18-4783-a992-18466ad8c687"
      },
      "outputs": [],
      "source": [
        "!pip install transformers --quiet"
      ]
    },
    {
      "cell_type": "code",
      "execution_count": null,
      "id": "58087da5-6b71-45f5-bb84-1c227ae293e9",
      "metadata": {
        "execution": {
          "iopub.execute_input": "2024-04-08T16:07:59.507322Z",
          "iopub.status.busy": "2024-04-08T16:07:59.507066Z",
          "iopub.status.idle": "2024-04-08T16:07:59.730182Z",
          "shell.execute_reply": "2024-04-08T16:07:59.729707Z",
          "shell.execute_reply.started": "2024-04-08T16:07:59.507303Z"
        },
        "language": "python",
        "trusted": true,
        "id": "58087da5-6b71-45f5-bb84-1c227ae293e9"
      },
      "outputs": [],
      "source": [
        "from langchain.vectorstores import SingleStoreDB\n",
        "import os\n",
        "\n",
        "from langchain_experimental.open_clip import OpenCLIPEmbeddings\n",
        "\n",
        "os.environ[\"SINGLESTOREDB_URL\"] = f'{connection_user}:{connection_password}@{connection_host}:{connection_port}/{connection_default_database}'"
      ]
    },
    {
      "cell_type": "code",
      "execution_count": null,
      "id": "de2db9f6-b5e8-4608-b2b2-48d7e3e3ce6c",
      "metadata": {
        "execution": {
          "iopub.execute_input": "2024-04-08T16:08:18.589886Z",
          "iopub.status.busy": "2024-04-08T16:08:18.589608Z",
          "iopub.status.idle": "2024-04-08T16:08:18.891780Z",
          "shell.execute_reply": "2024-04-08T16:08:18.891300Z",
          "shell.execute_reply.started": "2024-04-08T16:08:18.589870Z"
        },
        "language": "python",
        "trusted": true,
        "id": "de2db9f6-b5e8-4608-b2b2-48d7e3e3ce6c"
      },
      "outputs": [],
      "source": [
        "from langchain_openai import ChatOpenAI\n",
        "\n",
        "os.environ[\"OPENAI_API_KEY\"]='api_key_here'"
      ]
    },
    {
      "cell_type": "code",
      "execution_count": null,
      "id": "9dcdf5d3-c07e-4f8c-8b7a-2c8c13f387eb",
      "metadata": {
        "execution": {
          "iopub.execute_input": "2024-04-08T16:17:19.019486Z",
          "iopub.status.busy": "2024-04-08T16:17:19.019225Z",
          "iopub.status.idle": "2024-04-08T16:17:53.344121Z",
          "shell.execute_reply": "2024-04-08T16:17:53.343508Z",
          "shell.execute_reply.started": "2024-04-08T16:17:19.019468Z"
        },
        "language": "python",
        "trusted": true,
        "id": "9dcdf5d3-c07e-4f8c-8b7a-2c8c13f387eb"
      },
      "outputs": [],
      "source": [
        "vectorstore=SingleStoreDB(embedding=OpenCLIPEmbeddings())"
      ]
    },
    {
      "cell_type": "code",
      "execution_count": null,
      "id": "9092d297-4b56-4ec4-9fa9-6f8d69a3673d",
      "metadata": {
        "execution": {
          "iopub.execute_input": "2024-04-08T16:09:59.707713Z",
          "iopub.status.busy": "2024-04-08T16:09:59.707509Z",
          "iopub.status.idle": "2024-04-08T16:09:59.799685Z",
          "shell.execute_reply": "2024-04-08T16:09:59.799034Z",
          "shell.execute_reply.started": "2024-04-08T16:09:59.707700Z"
        },
        "language": "python",
        "trusted": true,
        "id": "9092d297-4b56-4ec4-9fa9-6f8d69a3673d",
        "outputId": "74f2c14f-c17d-40d4-ceb9-c6d9b8bb0af3"
      },
      "outputs": [
        {
          "name": "stdout",
          "output_type": "stream",
          "text": [
            "Download successful. Image saved as 'downloaded_image.jpg'\n"
          ]
        }
      ],
      "source": [
        "import requests\n",
        "\n",
        "url = \"https://www.image.123566685.jpg\"\n",
        "response = requests.get(url)\n",
        "\n",
        "if response.status_code == 200:\n",
        "    with open(\"downloaded_image.jpg\", \"wb\") as f:\n",
        "        f.write(response.content)\n",
        "    print(\"Download successful. Image saved as 'downloaded_image.jpg'\")\n",
        "else:\n",
        "    print(f\"Failed to download the image. Status code: {response.status_code}\")"
      ]
    },
    {
      "cell_type": "code",
      "execution_count": null,
      "id": "e37c254d-0dfb-4c6e-90f9-09f8bcea6b79",
      "metadata": {
        "execution": {
          "iopub.execute_input": "2024-04-08T16:19:17.880799Z",
          "iopub.status.busy": "2024-04-08T16:19:17.880506Z",
          "iopub.status.idle": "2024-04-08T16:19:17.890035Z",
          "shell.execute_reply": "2024-04-08T16:19:17.889520Z",
          "shell.execute_reply.started": "2024-04-08T16:19:17.880783Z"
        },
        "language": "python",
        "trusted": true,
        "id": "e37c254d-0dfb-4c6e-90f9-09f8bcea6b79"
      },
      "outputs": [],
      "source": [
        "def plt_img_local(image_path):\n",
        "    \"\"\"Display image from a local file path\"\"\"\n",
        "    # Display the image using IPython.display.Image\n",
        "    display(Image(filename=image_path))\n",
        "\n",
        "plt_img_local('downloaded_image.jpg')"
      ]
    },
    {
      "cell_type": "code",
      "execution_count": null,
      "id": "47315575",
      "metadata": {
        "id": "47315575"
      },
      "outputs": [],
      "source": [
        "# Get image URIs with .jpg extension only\n",
        "image_uris = sorted(\n",
        "    [\n",
        "        os.path.join(path, image_name)\n",
        "        for image_name in os.listdir(path)\n",
        "        if image_name.endswith(\".jpg\")\n",
        "    ]\n",
        ")"
      ]
    },
    {
      "cell_type": "code",
      "execution_count": null,
      "id": "e5347895-fd53-48a5-8606-656125ea4f3c",
      "metadata": {
        "execution": {
          "iopub.execute_input": "2024-04-08T16:19:29.809976Z",
          "iopub.status.busy": "2024-04-08T16:19:29.809731Z",
          "iopub.status.idle": "2024-04-08T16:19:32.914297Z",
          "shell.execute_reply": "2024-04-08T16:19:32.913836Z",
          "shell.execute_reply.started": "2024-04-08T16:19:29.809961Z"
        },
        "language": "python",
        "trusted": true,
        "id": "e5347895-fd53-48a5-8606-656125ea4f3c",
        "outputId": "19b6253e-b3ea-4e59-e4d0-f7214bd76c98"
      },
      "outputs": [
        {
          "data": {
            "text/plain": [
              "[]"
            ]
          },
          "execution_count": 167,
          "metadata": {},
          "output_type": "execute_result"
        }
      ],
      "source": [
        "vectorstore.add_images(uris=image_uris)"
      ]
    },
    {
      "cell_type": "code",
      "execution_count": null,
      "id": "4244d5e1-0de7-4262-84b0-7940a9212d70",
      "metadata": {
        "execution": {
          "iopub.execute_input": "2024-04-08T16:20:23.178169Z",
          "iopub.status.busy": "2024-04-08T16:20:23.177899Z",
          "iopub.status.idle": "2024-04-08T16:20:24.003462Z",
          "shell.execute_reply": "2024-04-08T16:20:24.002797Z",
          "shell.execute_reply.started": "2024-04-08T16:20:23.178146Z"
        },
        "language": "python",
        "trusted": true,
        "id": "4244d5e1-0de7-4262-84b0-7940a9212d70",
        "outputId": "cb27f202-8bc7-4967-88f7-589f016b5e3b"
      },
      "outputs": [
        {
          "name": "stdout",
          "output_type": "stream",
          "text": [
            "/home/jovyan/downloaded_image.jpg\n"
          ]
        }
      ],
      "source": [
        "query = \"Show me an image with a woman and two children\"\n",
        "docs = vectorstore.similarity_search(query)\n",
        "print(docs[0].page_content)"
      ]
    },
    {
      "cell_type": "code",
      "execution_count": null,
      "id": "0a5b2c4f-5a29-4301-adb0-2cb03e9b4377",
      "metadata": {
        "execution": {
          "iopub.execute_input": "2024-04-08T16:22:53.401338Z",
          "iopub.status.busy": "2024-04-08T16:22:53.401068Z",
          "iopub.status.idle": "2024-04-08T16:22:53.432820Z",
          "shell.execute_reply": "2024-04-08T16:22:53.432296Z",
          "shell.execute_reply.started": "2024-04-08T16:22:53.401319Z"
        },
        "language": "python",
        "trusted": true,
        "id": "0a5b2c4f-5a29-4301-adb0-2cb03e9b4377"
      },
      "outputs": [],
      "source": [
        "import io\n",
        "import re\n",
        "\n",
        "from IPython.display import display, Image\n",
        "from langchain_core.runnables import RunnableLambda, RunnablePassthrough\n",
        "\n",
        "from langchain_core.output_parsers import StrOutputParser\n",
        "from langchain_core.prompts import ChatPromptTemplate\n",
        "from langchain_openai import ChatOpenAI\n",
        "from langchain_core.messages import HumanMessage\n",
        "\n",
        "import base64\n",
        "\n",
        "def encode_image_base64(image_path):\n",
        "    \"\"\"Getting the base64 string\"\"\"\n",
        "    with open(image_path, \"rb\") as image_file:\n",
        "        return base64.b64encode(image_file.read()).decode(\"utf-8\")\n",
        "\n",
        "\n",
        "def get_image_urls(docs):\n",
        "    \"\"\"\n",
        "    Split base64-encoded images\n",
        "    \"\"\"\n",
        "    b64_images = []\n",
        "    for doc in docs:\n",
        "        b64 = encode_image_base64(doc.page_content)\n",
        "        b64_images.append(b64)\n",
        "\n",
        "    return {'images': b64_images}\n",
        "\n",
        "\n",
        "def img_prompt_func(data_dict):\n",
        "    \"\"\"\n",
        "    Join the context into a single string\n",
        "    \"\"\"\n",
        "    messages = []\n",
        "\n",
        "    # Adding image(s) to the messages if present\n",
        "    if data_dict[\"context\"][\"images\"]:\n",
        "        for img_base64 in data_dict[\"context\"][\"images\"]:\n",
        "            image_message = {\n",
        "                \"type\": \"image_url\",\n",
        "                \"image_url\": {\"url\": f\"data:image/jpeg;base64,{img_base64}\"},\n",
        "            }\n",
        "            messages.append(image_message)\n",
        "\n",
        "    # Adding the text for analysis\n",
        "    text_message = {\n",
        "        \"type\": \"text\",\n",
        "        \"text\": (\n",
        "            f\"User-provided question: {data_dict['question']}\\n\\n\"\n",
        "        ),\n",
        "    }\n",
        "    messages.append(text_message)\n",
        "    return [HumanMessage(content=messages)]\n",
        "\n",
        "\n",
        "def multi_modal_rag_chain(retriever):\n",
        "    \"\"\"\n",
        "    Multi-modal RAG chain\n",
        "    \"\"\"\n",
        "\n",
        "    # Multi-modal LLM\n",
        "    model = ChatOpenAI(temperature=0, model=\"gpt-4-vision-preview\", max_tokens=1024)\n",
        "\n",
        "    # RAG pipeline\n",
        "    chain = (\n",
        "        {\n",
        "            \"context\": retriever | RunnableLambda(get_image_urls),\n",
        "            \"question\": RunnablePassthrough(),\n",
        "        }\n",
        "        | RunnableLambda(img_prompt_func)\n",
        "        | model\n",
        "        | StrOutputParser()\n",
        "    )\n",
        "\n",
        "    return chain\n",
        "\n",
        "\n",
        "# Create RAG chain\n",
        "\n",
        "retriever = vectorstore.as_retriever()\n",
        "\n",
        "chain_multimodal_rag = multi_modal_rag_chain(retriever)"
      ]
    },
    {
      "cell_type": "code",
      "execution_count": null,
      "id": "cb88cd09-dedc-4b8e-83c7-6184b58eb063",
      "metadata": {
        "execution": {
          "iopub.execute_input": "2024-04-08T16:23:06.213122Z",
          "iopub.status.busy": "2024-04-08T16:23:06.212879Z",
          "iopub.status.idle": "2024-04-08T16:23:06.909213Z",
          "shell.execute_reply": "2024-04-08T16:23:06.908708Z",
          "shell.execute_reply.started": "2024-04-08T16:23:06.213107Z"
        },
        "language": "python",
        "trusted": true,
        "id": "cb88cd09-dedc-4b8e-83c7-6184b58eb063"
      },
      "outputs": [],
      "source": [
        "query=\"Show me portrait pictures and describe them as a an expert photographer.\"\n",
        "docs = retriever.get_relevant_documents(query=query)"
      ]
    }
  ],
  "metadata": {
    "kernelspec": {
      "display_name": "Python 3 (ipykernel)",
      "language": "python",
      "name": "python3"
    },
    "language_info": {
      "codemirror_mode": {
        "name": "ipython",
        "version": 3
      },
      "file_extension": ".py",
      "mimetype": "text/x-python",
      "name": "python",
      "nbconvert_exporter": "python",
      "pygments_lexer": "ipython3",
      "version": "3.11.6"
    },
    "singlestore_cell_default_language": "python",
    "singlestore_connection": {
      "connectionID": "6efce35a-2db5-4ae3-bc0b-c3d5810a45f4",
      "defaultDatabase": "langchain_multimodal"
    },
    "colab": {
      "provenance": []
    }
  },
  "nbformat": 4,
  "nbformat_minor": 5
}